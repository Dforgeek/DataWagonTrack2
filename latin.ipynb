{
 "cells": [
  {
   "cell_type": "code",
   "execution_count": 1,
   "metadata": {},
   "outputs": [],
   "source": [
    "import numpy as np\n",
    "import pandas as pd\n",
    "\n",
    "import matplotlib.pyplot as plt\n",
    "import seaborn as sns"
   ]
  },
  {
   "cell_type": "code",
   "execution_count": 2,
   "metadata": {},
   "outputs": [],
   "source": [
    "path_train = \"train_1\"\n",
    "\n",
    "wag_prob = pd.read_parquet(path_train + \"/wagons_probeg_ownersip.parquet\").convert_dtypes()\n",
    "wag_param = pd.read_parquet(path_train + \"/wag_params.parquet\").convert_dtypes()\n",
    "dislok_wagons = pd.read_parquet(path_train + \"/dislok_wagons.parquet\").convert_dtypes()\n",
    "\n",
    "target = pd.read_csv(path_train +'/target/y_train.csv').convert_dtypes()\n",
    "to_predict = pd.read_csv(path_train +'/target/y_predict.csv').convert_dtypes()"
   ]
  },
  {
   "cell_type": "code",
   "execution_count": 3,
   "metadata": {},
   "outputs": [
    {
     "data": {
      "text/html": [
       "<div>\n",
       "<style scoped>\n",
       "    .dataframe tbody tr th:only-of-type {\n",
       "        vertical-align: middle;\n",
       "    }\n",
       "\n",
       "    .dataframe tbody tr th {\n",
       "        vertical-align: top;\n",
       "    }\n",
       "\n",
       "    .dataframe thead th {\n",
       "        text-align: right;\n",
       "    }\n",
       "</style>\n",
       "<table border=\"1\" class=\"dataframe\">\n",
       "  <thead>\n",
       "    <tr style=\"text-align: right;\">\n",
       "      <th></th>\n",
       "      <th>plan_date</th>\n",
       "      <th>wagnum</th>\n",
       "      <th>date_kap</th>\n",
       "      <th>date_dep</th>\n",
       "      <th>kod_vrab</th>\n",
       "      <th>date_pl_rem</th>\n",
       "      <th>id_road_disl</th>\n",
       "      <th>st_id_dest</th>\n",
       "      <th>id_road_dest</th>\n",
       "      <th>st_id_send</th>\n",
       "      <th>id_road_send</th>\n",
       "      <th>ost_prob</th>\n",
       "      <th>isload</th>\n",
       "      <th>fr_id</th>\n",
       "      <th>last_fr_id</th>\n",
       "      <th>distance</th>\n",
       "    </tr>\n",
       "  </thead>\n",
       "  <tbody>\n",
       "  </tbody>\n",
       "</table>\n",
       "</div>"
      ],
      "text/plain": [
       "Empty DataFrame\n",
       "Columns: [plan_date, wagnum, date_kap, date_dep, kod_vrab, date_pl_rem, id_road_disl, st_id_dest, id_road_dest, st_id_send, id_road_send, ost_prob, isload, fr_id, last_fr_id, distance]\n",
       "Index: []"
      ]
     },
     "execution_count": 3,
     "metadata": {},
     "output_type": "execute_result"
    }
   ],
   "source": [
    "dislok_wagons[dislok_wagons[\"date_kap\"] > \"2022-9-01\"]"
   ]
  },
  {
   "cell_type": "markdown",
   "metadata": {},
   "source": [
    "+ Можно считать сумму distance, т.к не для всех данных есть остаточный пробег"
   ]
  },
  {
   "cell_type": "code",
   "execution_count": 50,
   "metadata": {},
   "outputs": [],
   "source": [
    "train_target = target[target[\"month\"] == \"2022-12-01\"].drop(\"month\", axis=1)\n",
    "dis_train = dislok_wagons[dislok_wagons[\"plan_date\"] < \"2022-12-01\"]"
   ]
  },
  {
   "cell_type": "markdown",
   "metadata": {},
   "source": [
    "+ Ковертирую в дни, т.к дальше были проблемы с datetime и null\n",
    "+ ВНИМАНИЕ. НУЛЫ ЗАПОЛНИЛ -1"
   ]
  },
  {
   "cell_type": "code",
   "execution_count": 51,
   "metadata": {},
   "outputs": [
    {
     "name": "stderr",
     "output_type": "stream",
     "text": [
      "C:\\Users\\mikha\\AppData\\Local\\Temp\\ipykernel_624\\62137972.py:6: SettingWithCopyWarning: \n",
      "A value is trying to be set on a copy of a slice from a DataFrame.\n",
      "Try using .loc[row_indexer,col_indexer] = value instead\n",
      "\n",
      "See the caveats in the documentation: https://pandas.pydata.org/pandas-docs/stable/user_guide/indexing.html#returning-a-view-versus-a-copy\n",
      "  dis_train[\"days_from_kap\"] = (pd.to_datetime(\"2023-02-01\") - dis_train[\"date_kap\"]).dt.days\n",
      "C:\\Users\\mikha\\AppData\\Local\\Temp\\ipykernel_624\\62137972.py:7: SettingWithCopyWarning: \n",
      "A value is trying to be set on a copy of a slice from a DataFrame.\n",
      "Try using .loc[row_indexer,col_indexer] = value instead\n",
      "\n",
      "See the caveats in the documentation: https://pandas.pydata.org/pandas-docs/stable/user_guide/indexing.html#returning-a-view-versus-a-copy\n",
      "  dis_train[\"days_from_dep\"] = (pd.to_datetime(\"2023-02-01\") - dis_train[\"date_dep\"]).dt.days\n",
      "C:\\Users\\mikha\\AppData\\Local\\Temp\\ipykernel_624\\62137972.py:10: SettingWithCopyWarning: \n",
      "A value is trying to be set on a copy of a slice from a DataFrame.\n",
      "Try using .loc[row_indexer,col_indexer] = value instead\n",
      "\n",
      "See the caveats in the documentation: https://pandas.pydata.org/pandas-docs/stable/user_guide/indexing.html#returning-a-view-versus-a-copy\n",
      "  dis_train['days_from_kap'] = dis_train['days_from_kap'].fillna(-1)\n",
      "C:\\Users\\mikha\\AppData\\Local\\Temp\\ipykernel_624\\62137972.py:11: SettingWithCopyWarning: \n",
      "A value is trying to be set on a copy of a slice from a DataFrame.\n",
      "Try using .loc[row_indexer,col_indexer] = value instead\n",
      "\n",
      "See the caveats in the documentation: https://pandas.pydata.org/pandas-docs/stable/user_guide/indexing.html#returning-a-view-versus-a-copy\n",
      "  dis_train['days_from_dep'] = dis_train['days_from_dep'].fillna(-1)\n"
     ]
    }
   ],
   "source": [
    "# fill date_kap and date_dep with dt.days\n",
    "base_date = pd.to_datetime(\"2023-02-01\")\n",
    "days_from_kap_mean = (base_date - dis_train[\"date_kap\"]).dt.days.mean()\n",
    "days_from_dep_mean = (base_date - dis_train[\"date_dep\"]).dt.days.mean()\n",
    "\n",
    "dis_train[\"days_from_kap\"] = (pd.to_datetime(\"2023-02-01\") - dis_train[\"date_kap\"]).dt.days\n",
    "dis_train[\"days_from_dep\"] = (pd.to_datetime(\"2023-02-01\") - dis_train[\"date_dep\"]).dt.days\n",
    "\n",
    "# Fill missing values with mean\n",
    "dis_train['days_from_kap'] = dis_train['days_from_kap'].fillna(-1)\n",
    "dis_train['days_from_dep'] = dis_train['days_from_dep'].fillna(-1)"
   ]
  },
  {
   "cell_type": "code",
   "execution_count": 52,
   "metadata": {},
   "outputs": [
    {
     "data": {
      "text/plain": [
       "plan_date              0\n",
       "wagnum                 0\n",
       "date_kap         1826366\n",
       "date_dep          233267\n",
       "kod_vrab               0\n",
       "date_pl_rem            0\n",
       "id_road_disl           0\n",
       "st_id_dest             0\n",
       "id_road_dest           0\n",
       "st_id_send             0\n",
       "id_road_send           0\n",
       "ost_prob          177972\n",
       "isload                 0\n",
       "fr_id                  0\n",
       "last_fr_id             0\n",
       "distance               0\n",
       "days_from_kap          0\n",
       "days_from_dep          0\n",
       "dtype: int64"
      ]
     },
     "execution_count": 52,
     "metadata": {},
     "output_type": "execute_result"
    }
   ],
   "source": [
    "dis_train.isna().sum()"
   ]
  },
  {
   "cell_type": "code",
   "execution_count": 53,
   "metadata": {},
   "outputs": [],
   "source": [
    "# Aggregation by wagnum. Agg by date_kap where it is not null\n",
    "dis_train = dis_train.groupby('wagnum').agg({\n",
    "    'plan_date': ['last'], \n",
    "    'days_from_kap': lambda x: x[x != -1].iloc[0] if (x != -1).any() else days_from_kap_mean,\n",
    "    'days_from_dep': lambda x: x[x != -1].iloc[0] if (x != -1).any() else days_from_dep_mean,\n",
    "    'date_pl_rem': lambda x: x[x.notnull()].iloc[-1] if x.notnull().any() else None, # поменять\n",
    "    'distance': 'last',\n",
    "    'isload': 'last',\n",
    "    'ost_prob': 'last'\n",
    "    })\n",
    "\n",
    "\n",
    "dis_train.columns = ['plan_date', 'days_from_kap', 'days_from_dep', 'date_pl_rem', 'distance', 'isload', 'ost_prob']\n"
   ]
  },
  {
   "cell_type": "code",
   "execution_count": 54,
   "metadata": {},
   "outputs": [
    {
     "name": "stdout",
     "output_type": "stream",
     "text": [
      "<class 'pandas.core.frame.DataFrame'>\n",
      "Index: 33977 entries, 0 to 33976\n",
      "Data columns (total 7 columns):\n",
      " #   Column         Non-Null Count  Dtype         \n",
      "---  ------         --------------  -----         \n",
      " 0   plan_date      33977 non-null  datetime64[ns]\n",
      " 1   days_from_kap  33977 non-null  float64       \n",
      " 2   days_from_dep  33977 non-null  float64       \n",
      " 3   date_pl_rem    33977 non-null  datetime64[ns]\n",
      " 4   distance       33977 non-null  Int64         \n",
      " 5   isload         33977 non-null  Int64         \n",
      " 6   ost_prob       32701 non-null  Int64         \n",
      "dtypes: Int64(3), datetime64[ns](2), float64(2)\n",
      "memory usage: 2.2 MB\n"
     ]
    }
   ],
   "source": [
    "dis_train.info()"
   ]
  },
  {
   "cell_type": "code",
   "execution_count": 55,
   "metadata": {},
   "outputs": [],
   "source": [
    "# Join train_target and dis_train\n",
    "train = pd.merge(train_target, dis_train, how=\"inner\", left_on=\"wagnum\", right_on=\"wagnum\")"
   ]
  },
  {
   "cell_type": "code",
   "execution_count": 56,
   "metadata": {},
   "outputs": [
    {
     "name": "stdout",
     "output_type": "stream",
     "text": [
      "<class 'pandas.core.frame.DataFrame'>\n",
      "Int64Index: 33977 entries, 0 to 33976\n",
      "Data columns (total 10 columns):\n",
      " #   Column         Non-Null Count  Dtype         \n",
      "---  ------         --------------  -----         \n",
      " 0   wagnum         33977 non-null  Int64         \n",
      " 1   target_month   33977 non-null  Int64         \n",
      " 2   target_day     33977 non-null  Int64         \n",
      " 3   plan_date      33977 non-null  datetime64[ns]\n",
      " 4   days_from_kap  33977 non-null  float64       \n",
      " 5   days_from_dep  33977 non-null  float64       \n",
      " 6   date_pl_rem    33977 non-null  datetime64[ns]\n",
      " 7   distance       33977 non-null  Int64         \n",
      " 8   isload         33977 non-null  Int64         \n",
      " 9   ost_prob       32701 non-null  Int64         \n",
      "dtypes: Int64(6), datetime64[ns](2), float64(2)\n",
      "memory usage: 3.0 MB\n"
     ]
    }
   ],
   "source": [
    "train.info()"
   ]
  },
  {
   "cell_type": "code",
   "execution_count": 57,
   "metadata": {},
   "outputs": [
    {
     "data": {
      "text/html": [
       "<div>\n",
       "<style scoped>\n",
       "    .dataframe tbody tr th:only-of-type {\n",
       "        vertical-align: middle;\n",
       "    }\n",
       "\n",
       "    .dataframe tbody tr th {\n",
       "        vertical-align: top;\n",
       "    }\n",
       "\n",
       "    .dataframe thead th {\n",
       "        text-align: right;\n",
       "    }\n",
       "</style>\n",
       "<table border=\"1\" class=\"dataframe\">\n",
       "  <thead>\n",
       "    <tr style=\"text-align: right;\">\n",
       "      <th></th>\n",
       "      <th>wagnum</th>\n",
       "      <th>target_month</th>\n",
       "      <th>target_day</th>\n",
       "      <th>plan_date</th>\n",
       "      <th>days_from_kap</th>\n",
       "      <th>days_from_dep</th>\n",
       "      <th>date_pl_rem</th>\n",
       "      <th>distance</th>\n",
       "      <th>isload</th>\n",
       "      <th>ost_prob</th>\n",
       "    </tr>\n",
       "  </thead>\n",
       "  <tbody>\n",
       "    <tr>\n",
       "      <th>589</th>\n",
       "      <td>6488</td>\n",
       "      <td>0</td>\n",
       "      <td>0</td>\n",
       "      <td>2022-11-30</td>\n",
       "      <td>183.0</td>\n",
       "      <td>1136.0</td>\n",
       "      <td>2022-12-23</td>\n",
       "      <td>-1</td>\n",
       "      <td>0</td>\n",
       "      <td>144131</td>\n",
       "    </tr>\n",
       "    <tr>\n",
       "      <th>1536</th>\n",
       "      <td>11702</td>\n",
       "      <td>0</td>\n",
       "      <td>0</td>\n",
       "      <td>2022-11-30</td>\n",
       "      <td>172.0</td>\n",
       "      <td>960.0</td>\n",
       "      <td>2023-06-16</td>\n",
       "      <td>-1</td>\n",
       "      <td>0</td>\n",
       "      <td>143707</td>\n",
       "    </tr>\n",
       "    <tr>\n",
       "      <th>3115</th>\n",
       "      <td>16864</td>\n",
       "      <td>0</td>\n",
       "      <td>0</td>\n",
       "      <td>2022-11-30</td>\n",
       "      <td>171.0</td>\n",
       "      <td>1098.0</td>\n",
       "      <td>2023-01-30</td>\n",
       "      <td>-1</td>\n",
       "      <td>0</td>\n",
       "      <td>152810</td>\n",
       "    </tr>\n",
       "    <tr>\n",
       "      <th>3558</th>\n",
       "      <td>18131</td>\n",
       "      <td>0</td>\n",
       "      <td>0</td>\n",
       "      <td>2022-11-30</td>\n",
       "      <td>174.0</td>\n",
       "      <td>1009.0</td>\n",
       "      <td>2023-04-28</td>\n",
       "      <td>-1</td>\n",
       "      <td>1</td>\n",
       "      <td>147133</td>\n",
       "    </tr>\n",
       "    <tr>\n",
       "      <th>3585</th>\n",
       "      <td>11305</td>\n",
       "      <td>0</td>\n",
       "      <td>0</td>\n",
       "      <td>2022-11-30</td>\n",
       "      <td>175.0</td>\n",
       "      <td>745.0</td>\n",
       "      <td>2024-01-17</td>\n",
       "      <td>-1</td>\n",
       "      <td>0</td>\n",
       "      <td>147777</td>\n",
       "    </tr>\n",
       "    <tr>\n",
       "      <th>...</th>\n",
       "      <td>...</td>\n",
       "      <td>...</td>\n",
       "      <td>...</td>\n",
       "      <td>...</td>\n",
       "      <td>...</td>\n",
       "      <td>...</td>\n",
       "      <td>...</td>\n",
       "      <td>...</td>\n",
       "      <td>...</td>\n",
       "      <td>...</td>\n",
       "    </tr>\n",
       "    <tr>\n",
       "      <th>31592</th>\n",
       "      <td>27594</td>\n",
       "      <td>0</td>\n",
       "      <td>0</td>\n",
       "      <td>2022-11-30</td>\n",
       "      <td>173.0</td>\n",
       "      <td>962.0</td>\n",
       "      <td>2023-06-14</td>\n",
       "      <td>-1</td>\n",
       "      <td>0</td>\n",
       "      <td>150288</td>\n",
       "    </tr>\n",
       "    <tr>\n",
       "      <th>33018</th>\n",
       "      <td>24722</td>\n",
       "      <td>0</td>\n",
       "      <td>0</td>\n",
       "      <td>2022-11-30</td>\n",
       "      <td>174.0</td>\n",
       "      <td>988.0</td>\n",
       "      <td>2023-05-19</td>\n",
       "      <td>-1</td>\n",
       "      <td>1</td>\n",
       "      <td>139778</td>\n",
       "    </tr>\n",
       "    <tr>\n",
       "      <th>33052</th>\n",
       "      <td>11267</td>\n",
       "      <td>0</td>\n",
       "      <td>0</td>\n",
       "      <td>2022-11-30</td>\n",
       "      <td>181.0</td>\n",
       "      <td>823.0</td>\n",
       "      <td>2023-10-31</td>\n",
       "      <td>-1</td>\n",
       "      <td>1</td>\n",
       "      <td>130198</td>\n",
       "    </tr>\n",
       "    <tr>\n",
       "      <th>33673</th>\n",
       "      <td>30640</td>\n",
       "      <td>0</td>\n",
       "      <td>0</td>\n",
       "      <td>2022-11-30</td>\n",
       "      <td>174.0</td>\n",
       "      <td>904.0</td>\n",
       "      <td>2023-08-11</td>\n",
       "      <td>-1</td>\n",
       "      <td>0</td>\n",
       "      <td>143721</td>\n",
       "    </tr>\n",
       "    <tr>\n",
       "      <th>33730</th>\n",
       "      <td>27474</td>\n",
       "      <td>0</td>\n",
       "      <td>0</td>\n",
       "      <td>2022-11-30</td>\n",
       "      <td>175.0</td>\n",
       "      <td>812.0</td>\n",
       "      <td>2023-11-11</td>\n",
       "      <td>744</td>\n",
       "      <td>1</td>\n",
       "      <td>131942</td>\n",
       "    </tr>\n",
       "  </tbody>\n",
       "</table>\n",
       "<p>181 rows × 10 columns</p>\n",
       "</div>"
      ],
      "text/plain": [
       "       wagnum  target_month  target_day  plan_date  days_from_kap  \\\n",
       "589      6488             0           0 2022-11-30          183.0   \n",
       "1536    11702             0           0 2022-11-30          172.0   \n",
       "3115    16864             0           0 2022-11-30          171.0   \n",
       "3558    18131             0           0 2022-11-30          174.0   \n",
       "3585    11305             0           0 2022-11-30          175.0   \n",
       "...       ...           ...         ...        ...            ...   \n",
       "31592   27594             0           0 2022-11-30          173.0   \n",
       "33018   24722             0           0 2022-11-30          174.0   \n",
       "33052   11267             0           0 2022-11-30          181.0   \n",
       "33673   30640             0           0 2022-11-30          174.0   \n",
       "33730   27474             0           0 2022-11-30          175.0   \n",
       "\n",
       "       days_from_dep date_pl_rem  distance  isload  ost_prob  \n",
       "589           1136.0  2022-12-23        -1       0    144131  \n",
       "1536           960.0  2023-06-16        -1       0    143707  \n",
       "3115          1098.0  2023-01-30        -1       0    152810  \n",
       "3558          1009.0  2023-04-28        -1       1    147133  \n",
       "3585           745.0  2024-01-17        -1       0    147777  \n",
       "...              ...         ...       ...     ...       ...  \n",
       "31592          962.0  2023-06-14        -1       0    150288  \n",
       "33018          988.0  2023-05-19        -1       1    139778  \n",
       "33052          823.0  2023-10-31        -1       1    130198  \n",
       "33673          904.0  2023-08-11        -1       0    143721  \n",
       "33730          812.0  2023-11-11       744       1    131942  \n",
       "\n",
       "[181 rows x 10 columns]"
      ]
     },
     "execution_count": 57,
     "metadata": {},
     "output_type": "execute_result"
    }
   ],
   "source": [
    "diff_from_base = (base_date - pd.to_datetime(\"2022-8-01\")).days\n",
    "train[train[\"days_from_kap\"] < diff_from_base]"
   ]
  },
  {
   "cell_type": "code",
   "execution_count": 58,
   "metadata": {},
   "outputs": [
    {
     "data": {
      "image/png": "[encoded data removed]",
      "text/plain": [
       "<Figure size 640x480 with 2 Axes>"
      ]
     },
     "metadata": {},
     "output_type": "display_data"
    }
   ],
   "source": [
    "# Correlation between days_from_kap, days_from_dep and target_month, target_day\n",
    "cr = train[[\"days_from_kap\", \"days_from_dep\", \"target_month\", \"target_day\", \"ost_prob\", \"isload\"]].corr()\n",
    "sns.heatmap(cr, annot=True, fmt=\".2f\", linewidths=.5, cmap='Blues')\n",
    "plt.show()"
   ]
  },
  {
   "cell_type": "markdown",
   "metadata": {},
   "source": [
    "#### Имейте в виду fillna средними значениями"
   ]
  },
  {
   "cell_type": "code",
   "execution_count": 61,
   "metadata": {},
   "outputs": [
    {
     "data": {
      "text/plain": [
       "(2043.6876631137293, 976.6791346362788)"
      ]
     },
     "execution_count": 61,
     "metadata": {},
     "output_type": "execute_result"
    }
   ],
   "source": [
    "days_from_kap_mean, days_from_dep_mean"
   ]
  },
  {
   "cell_type": "code",
   "execution_count": 59,
   "metadata": {},
   "outputs": [
    {
     "data": {
      "image/png": "[encoded data removed]",
      "text/plain": [
       "<Figure size 1500x500 with 2 Axes>"
      ]
     },
     "metadata": {},
     "output_type": "display_data"
    }
   ],
   "source": [
    "# Violin  between days_from_kap, days_from_dep and target_month, target_day\n",
    "fig, ax = plt.subplots(1, 2, figsize=(15, 5))\n",
    "sns.violinplot(x=\"target_month\", y=\"days_from_kap\", data=train, ax=ax[0])\n",
    "sns.violinplot(x=\"target_month\", y=\"days_from_dep\", data=train, ax=ax[1])\n",
    "plt.show()\n"
   ]
  },
  {
   "cell_type": "code",
   "execution_count": 79,
   "metadata": {},
   "outputs": [],
   "source": [
    "# Fill ost_prob\n",
    "train['ost_prob'] = train['ost_prob'].fillna(-1)"
   ]
  },
  {
   "cell_type": "code",
   "execution_count": 80,
   "metadata": {},
   "outputs": [
    {
     "data": {
      "text/html": [
       "<div>\n",
       "<style scoped>\n",
       "    .dataframe tbody tr th:only-of-type {\n",
       "        vertical-align: middle;\n",
       "    }\n",
       "\n",
       "    .dataframe tbody tr th {\n",
       "        vertical-align: top;\n",
       "    }\n",
       "\n",
       "    .dataframe thead th {\n",
       "        text-align: right;\n",
       "    }\n",
       "</style>\n",
       "<table border=\"1\" class=\"dataframe\">\n",
       "  <thead>\n",
       "    <tr style=\"text-align: right;\">\n",
       "      <th></th>\n",
       "      <th>days_from_kap</th>\n",
       "      <th>days_from_dep</th>\n",
       "      <th>isload</th>\n",
       "      <th>ost_prob</th>\n",
       "    </tr>\n",
       "  </thead>\n",
       "  <tbody>\n",
       "    <tr>\n",
       "      <th>0</th>\n",
       "      <td>1080.000000</td>\n",
       "      <td>1968.0</td>\n",
       "      <td>0</td>\n",
       "      <td>159916</td>\n",
       "    </tr>\n",
       "    <tr>\n",
       "      <th>1</th>\n",
       "      <td>851.000000</td>\n",
       "      <td>1767.0</td>\n",
       "      <td>1</td>\n",
       "      <td>4516</td>\n",
       "    </tr>\n",
       "    <tr>\n",
       "      <th>2</th>\n",
       "      <td>2043.687663</td>\n",
       "      <td>1034.0</td>\n",
       "      <td>0</td>\n",
       "      <td>1511</td>\n",
       "    </tr>\n",
       "    <tr>\n",
       "      <th>3</th>\n",
       "      <td>708.000000</td>\n",
       "      <td>1282.0</td>\n",
       "      <td>0</td>\n",
       "      <td>30223</td>\n",
       "    </tr>\n",
       "    <tr>\n",
       "      <th>4</th>\n",
       "      <td>940.000000</td>\n",
       "      <td>1705.0</td>\n",
       "      <td>0</td>\n",
       "      <td>153839</td>\n",
       "    </tr>\n",
       "  </tbody>\n",
       "</table>\n",
       "</div>"
      ],
      "text/plain": [
       "   days_from_kap  days_from_dep  isload  ost_prob\n",
       "0    1080.000000         1968.0       0    159916\n",
       "1     851.000000         1767.0       1      4516\n",
       "2    2043.687663         1034.0       0      1511\n",
       "3     708.000000         1282.0       0     30223\n",
       "4     940.000000         1705.0       0    153839"
      ]
     },
     "execution_count": 80,
     "metadata": {},
     "output_type": "execute_result"
    }
   ],
   "source": [
    "X = train.drop([\"wagnum\", \"target_month\", \"target_day\", \"plan_date\", \"date_pl_rem\", \"distance\"], axis=1)\n",
    "y = train[[\"target_month\", \"target_day\"]]\n",
    "X.head()"
   ]
  },
  {
   "cell_type": "markdown",
   "metadata": {},
   "source": [
    "#### Создаем тестовую выборку"
   ]
  },
  {
   "cell_type": "code",
   "execution_count": 81,
   "metadata": {},
   "outputs": [
    {
     "name": "stderr",
     "output_type": "stream",
     "text": [
      "C:\\Users\\mikha\\AppData\\Local\\Temp\\ipykernel_624\\2085035428.py:4: SettingWithCopyWarning: \n",
      "A value is trying to be set on a copy of a slice from a DataFrame.\n",
      "Try using .loc[row_indexer,col_indexer] = value instead\n",
      "\n",
      "See the caveats in the documentation: https://pandas.pydata.org/pandas-docs/stable/user_guide/indexing.html#returning-a-view-versus-a-copy\n",
      "  dis_test[\"days_from_kap\"] = (pd.to_datetime(\"2023-02-01\") - dis_test[\"date_kap\"]).dt.days\n",
      "C:\\Users\\mikha\\AppData\\Local\\Temp\\ipykernel_624\\2085035428.py:5: SettingWithCopyWarning: \n",
      "A value is trying to be set on a copy of a slice from a DataFrame.\n",
      "Try using .loc[row_indexer,col_indexer] = value instead\n",
      "\n",
      "See the caveats in the documentation: https://pandas.pydata.org/pandas-docs/stable/user_guide/indexing.html#returning-a-view-versus-a-copy\n",
      "  dis_test[\"days_from_dep\"] = (pd.to_datetime(\"2023-02-01\") - dis_test[\"date_dep\"]).dt.days\n",
      "C:\\Users\\mikha\\AppData\\Local\\Temp\\ipykernel_624\\2085035428.py:8: SettingWithCopyWarning: \n",
      "A value is trying to be set on a copy of a slice from a DataFrame.\n",
      "Try using .loc[row_indexer,col_indexer] = value instead\n",
      "\n",
      "See the caveats in the documentation: https://pandas.pydata.org/pandas-docs/stable/user_guide/indexing.html#returning-a-view-versus-a-copy\n",
      "  dis_test['days_from_kap'] = dis_test['days_from_kap'].fillna(-1)\n",
      "C:\\Users\\mikha\\AppData\\Local\\Temp\\ipykernel_624\\2085035428.py:9: SettingWithCopyWarning: \n",
      "A value is trying to be set on a copy of a slice from a DataFrame.\n",
      "Try using .loc[row_indexer,col_indexer] = value instead\n",
      "\n",
      "See the caveats in the documentation: https://pandas.pydata.org/pandas-docs/stable/user_guide/indexing.html#returning-a-view-versus-a-copy\n",
      "  dis_test['days_from_dep'] = dis_test['days_from_dep'].fillna(-1)\n"
     ]
    }
   ],
   "source": [
    "test_target = target[target[\"month\"] == \"2023-01-01\"].drop(\"month\", axis=1)\n",
    "dis_test = dislok_wagons[dislok_wagons[\"plan_date\"] < \"2023-01-01\"]\n",
    "\n",
    "dis_test[\"days_from_kap\"] = (pd.to_datetime(\"2023-02-01\") - dis_test[\"date_kap\"]).dt.days\n",
    "dis_test[\"days_from_dep\"] = (pd.to_datetime(\"2023-02-01\") - dis_test[\"date_dep\"]).dt.days\n",
    "\n",
    "# Fill missing values with mean\n",
    "dis_test['days_from_kap'] = dis_test['days_from_kap'].fillna(-1)\n",
    "dis_test['days_from_dep'] = dis_test['days_from_dep'].fillna(-1)\n",
    "\n",
    "dis_test = dis_test.groupby('wagnum').agg({\n",
    "    'plan_date': ['last'], \n",
    "    'days_from_kap': lambda x: x[x != -1].iloc[0] if (x != -1).any() else days_from_kap_mean,\n",
    "    'days_from_dep': lambda x: x[x != -1].iloc[0] if (x != -1).any() else days_from_dep_mean,\n",
    "    'date_pl_rem': lambda x: x[x.notnull()].iloc[-1] if x.notnull().any() else None, # поменять\n",
    "    'distance': 'last',\n",
    "    'isload': 'last',\n",
    "    'ost_prob': 'last'\n",
    "    })\n",
    "\n",
    "\n",
    "dis_test.columns = ['plan_date', 'days_from_kap', 'days_from_dep', 'date_pl_rem', 'distance', 'isload', 'ost_prob']"
   ]
  },
  {
   "cell_type": "code",
   "execution_count": 82,
   "metadata": {},
   "outputs": [],
   "source": [
    "test = pd.merge(test_target, dis_test, how=\"inner\", left_on=\"wagnum\", right_on=\"wagnum\")\n",
    "test['ost_prob'] = test['ost_prob'].fillna(-1)\n",
    "\n",
    "X_test = test.drop([\"wagnum\", \"target_month\", \"target_day\", \"plan_date\", \"date_pl_rem\", \"distance\"], axis=1)\n",
    "y_test = test[[\"target_month\", \"target_day\"]]"
   ]
  },
  {
   "cell_type": "code",
   "execution_count": 83,
   "metadata": {},
   "outputs": [
    {
     "data": {
      "text/plain": [
       "days_from_kap    0\n",
       "days_from_dep    0\n",
       "isload           0\n",
       "ost_prob         0\n",
       "dtype: int64"
      ]
     },
     "execution_count": 83,
     "metadata": {},
     "output_type": "execute_result"
    }
   ],
   "source": [
    "X_test.isna().sum()"
   ]
  },
  {
   "cell_type": "markdown",
   "metadata": {},
   "source": [
    "#### Обучение"
   ]
  },
  {
   "cell_type": "code",
   "execution_count": 96,
   "metadata": {},
   "outputs": [],
   "source": [
    "# Fit CatBoostClassifier\n",
    "import catboost\n",
    "from catboost import CatBoostClassifier\n",
    "from sklearn.model_selection import train_test_split\n",
    "from sklearn.metrics import f1_score, precision_score, recall_score, accuracy_score, roc_auc_score\n"
   ]
  },
  {
   "cell_type": "code",
   "execution_count": 102,
   "metadata": {},
   "outputs": [
    {
     "name": "stdout",
     "output_type": "stream",
     "text": [
      "F1 score:  0.4822530864197531 \n",
      " Precision:  0.6823144104803494 \n",
      " Recall:  0.37291169451073986 \n",
      " Accuracy:  0.9604980425632119 \n",
      " ROC AUC:  0.6819507848656743\n"
     ]
    }
   ],
   "source": [
    "cat_month = CatBoostClassifier(iterations=1000, learning_rate=0.1, random_seed=42, verbose=False)\n",
    "cat_month.fit(X, y[\"target_month\"], eval_set=(X_test, y_test[\"target_month\"]), plot=False, early_stopping_rounds=50)\n",
    "y_pred_cb_month = cat_month.predict(X_test)\n",
    "\n",
    "\n",
    "print(\"F1 score: \", f1_score(y_test[\"target_month\"], y_pred_cb_month), '\\n', \n",
    "      \"Precision: \", precision_score(y_test[\"target_month\"], y_pred_cb_month), '\\n', \n",
    "      \"Recall: \", recall_score(y_test[\"target_month\"], y_pred_cb_month), '\\n', \n",
    "      \"Accuracy: \", accuracy_score(y_test[\"target_month\"], y_pred_cb_month), '\\n',\n",
    "      \"ROC AUC: \", roc_auc_score(y_test[\"target_month\"], y_pred_cb_month))\n"
   ]
  },
  {
   "cell_type": "markdown",
   "metadata": {},
   "source": [
    "F1 score:  0.4840887174541948 \n",
    " Precision:  0.33128024637043557 \n",
    " Recall:  0.8985680190930787 \n",
    " Accuracy:  0.9055132016601419 \n",
    " ROC AUC:  0.9022208148225711"
   ]
  },
  {
   "cell_type": "code",
   "execution_count": 101,
   "metadata": {},
   "outputs": [
    {
     "name": "stdout",
     "output_type": "stream",
     "text": [
      "F1 score:  0.19999999999999998 \n",
      " Precision:  0.1123294998662744 \n",
      " Recall:  0.911062906724512 \n",
      " Accuracy:  0.9010979307096812 \n",
      " ROC AUC:  0.9060118782846718\n"
     ]
    }
   ],
   "source": [
    "cat_day = CatBoostClassifier(iterations=1000, learning_rate=0.1, random_seed=42, verbose=False, auto_class_weights='Balanced')\n",
    "cat_day.fit(X, y[\"target_day\"], eval_set=(X_test, y_test[\"target_day\"]), early_stopping_rounds=50)\n",
    "y_pred_cb_day = cat_day.predict(X_test)\n",
    "\n",
    "\n",
    "print(\"F1 score: \", f1_score(y_test[\"target_day\"], y_pred_cb_day), '\\n',\n",
    "      \"Precision: \", precision_score(y_test[\"target_day\"], y_pred_cb_day), '\\n',\n",
    "      \"Recall: \", recall_score(y_test[\"target_day\"], y_pred_cb_day), '\\n',\n",
    "      \"Accuracy: \", accuracy_score(y_test[\"target_day\"], y_pred_cb_day), '\\n',\n",
    "      \"ROC AUC: \", roc_auc_score(y_test[\"target_day\"], y_pred_cb_day))"
   ]
  },
  {
   "cell_type": "code",
   "execution_count": 99,
   "metadata": {},
   "outputs": [
    {
     "name": "stdout",
     "output_type": "stream",
     "text": [
      "Feature ranking:\n",
      "1. ost_prob (75.625570)\n",
      "2. days_from_dep (13.129232)\n",
      "3. days_from_kap (9.900830)\n",
      "4. isload (1.344368)\n"
     ]
    }
   ],
   "source": [
    "# Check feature importance\n",
    "importances = cat_month.feature_importances_\n",
    "indices = np.argsort(importances)[::-1]\n",
    "names = [X.columns[i] for i in indices]\n",
    "print(\"Feature ranking:\")\n",
    "for f in range(X.shape[1]):\n",
    "    print(\"%d. %s (%f)\" % (f + 1, names[f], importances[indices[f]]))"
   ]
  },
  {
   "cell_type": "code",
   "execution_count": null,
   "metadata": {},
   "outputs": [],
   "source": []
  }
 ],
 "metadata": {
  "kernelspec": {
   "display_name": "base",
   "language": "python",
   "name": "python3"
  },
  "language_info": {
   "codemirror_mode": {
    "name": "ipython",
    "version": 3
   },
   "file_extension": ".py",
   "mimetype": "text/x-python",
   "name": "python",
   "nbconvert_exporter": "python",
   "pygments_lexer": "ipython3",
   "version": "3.9.7"
  }
 },
 "nbformat": 4,
 "nbformat_minor": 2
}
