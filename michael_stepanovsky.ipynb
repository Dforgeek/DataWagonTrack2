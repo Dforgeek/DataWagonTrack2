{
 "cells": [
  {
   "cell_type": "code",
   "execution_count": 2,
   "id": "initial_id",
   "metadata": {
    "collapsed": true,
    "ExecuteTime": {
     "end_time": "2023-11-11T11:22:53.050094Z",
     "start_time": "2023-11-11T11:22:51.336119300Z"
    }
   },
   "outputs": [],
   "source": [
    "import pandas as pd\n",
    "from sklearn.metrics import f1_score"
   ]
  },
  {
   "cell_type": "code",
   "execution_count": 3,
   "outputs": [
    {
     "data": {
      "text/plain": "       wagnum       model  rod_id  gruz  cnsi_gruz_capacity  cnsi_volumek  \\\n3218    26318   12-600-04       1   682                 682          85.0   \n19128   28344      12-132       1   700                 700          88.0   \n21526    8099      11-286       0   670                 670         138.0   \n32353   33350  12-9850-02       1   750                 750          90.0   \n81       5308      11-276       0   680                 680         122.0   \n\n       tara date_build    srok_sl  zavod_build  date_iskl  cnsi_probeg_dr  \\\n3218    240 1992-12-25 2022-04-27            5 2023-02-16             160   \n19128   240 2003-08-12 2024-12-24            0 2022-12-14             110   \n21526   270 1995-08-31 2027-10-01            1        NaT             110   \n32353   248 2014-10-27 2047-02-05           19        NaT             250   \n81      260 1995-09-17 2027-09-28            1        NaT             110   \n\n       cnsi_probeg_kr  kuzov  telega  tormoz tipvozd  tippogl  norma_km  \\\n3218              160      2       9       3       6       11    110000   \n19128             160      2       9       2       1       12         0   \n21526             160      2       9       2       1        1    160000   \n32353             500      2      11       2       7       12    250000   \n81                160      2       9       2       1       11    160000   \n\n       ownertype  \n3218           0  \n19128          0  \n21526          1  \n32353          1  \n81             1  ",
      "text/html": "<div>\n<style scoped>\n    .dataframe tbody tr th:only-of-type {\n        vertical-align: middle;\n    }\n\n    .dataframe tbody tr th {\n        vertical-align: top;\n    }\n\n    .dataframe thead th {\n        text-align: right;\n    }\n</style>\n<table border=\"1\" class=\"dataframe\">\n  <thead>\n    <tr style=\"text-align: right;\">\n      <th></th>\n      <th>wagnum</th>\n      <th>model</th>\n      <th>rod_id</th>\n      <th>gruz</th>\n      <th>cnsi_gruz_capacity</th>\n      <th>cnsi_volumek</th>\n      <th>tara</th>\n      <th>date_build</th>\n      <th>srok_sl</th>\n      <th>zavod_build</th>\n      <th>date_iskl</th>\n      <th>cnsi_probeg_dr</th>\n      <th>cnsi_probeg_kr</th>\n      <th>kuzov</th>\n      <th>telega</th>\n      <th>tormoz</th>\n      <th>tipvozd</th>\n      <th>tippogl</th>\n      <th>norma_km</th>\n      <th>ownertype</th>\n    </tr>\n  </thead>\n  <tbody>\n    <tr>\n      <th>3218</th>\n      <td>26318</td>\n      <td>12-600-04</td>\n      <td>1</td>\n      <td>682</td>\n      <td>682</td>\n      <td>85.0</td>\n      <td>240</td>\n      <td>1992-12-25</td>\n      <td>2022-04-27</td>\n      <td>5</td>\n      <td>2023-02-16</td>\n      <td>160</td>\n      <td>160</td>\n      <td>2</td>\n      <td>9</td>\n      <td>3</td>\n      <td>6</td>\n      <td>11</td>\n      <td>110000</td>\n      <td>0</td>\n    </tr>\n    <tr>\n      <th>19128</th>\n      <td>28344</td>\n      <td>12-132</td>\n      <td>1</td>\n      <td>700</td>\n      <td>700</td>\n      <td>88.0</td>\n      <td>240</td>\n      <td>2003-08-12</td>\n      <td>2024-12-24</td>\n      <td>0</td>\n      <td>2022-12-14</td>\n      <td>110</td>\n      <td>160</td>\n      <td>2</td>\n      <td>9</td>\n      <td>2</td>\n      <td>1</td>\n      <td>12</td>\n      <td>0</td>\n      <td>0</td>\n    </tr>\n    <tr>\n      <th>21526</th>\n      <td>8099</td>\n      <td>11-286</td>\n      <td>0</td>\n      <td>670</td>\n      <td>670</td>\n      <td>138.0</td>\n      <td>270</td>\n      <td>1995-08-31</td>\n      <td>2027-10-01</td>\n      <td>1</td>\n      <td>NaT</td>\n      <td>110</td>\n      <td>160</td>\n      <td>2</td>\n      <td>9</td>\n      <td>2</td>\n      <td>1</td>\n      <td>1</td>\n      <td>160000</td>\n      <td>1</td>\n    </tr>\n    <tr>\n      <th>32353</th>\n      <td>33350</td>\n      <td>12-9850-02</td>\n      <td>1</td>\n      <td>750</td>\n      <td>750</td>\n      <td>90.0</td>\n      <td>248</td>\n      <td>2014-10-27</td>\n      <td>2047-02-05</td>\n      <td>19</td>\n      <td>NaT</td>\n      <td>250</td>\n      <td>500</td>\n      <td>2</td>\n      <td>11</td>\n      <td>2</td>\n      <td>7</td>\n      <td>12</td>\n      <td>250000</td>\n      <td>1</td>\n    </tr>\n    <tr>\n      <th>81</th>\n      <td>5308</td>\n      <td>11-276</td>\n      <td>0</td>\n      <td>680</td>\n      <td>680</td>\n      <td>122.0</td>\n      <td>260</td>\n      <td>1995-09-17</td>\n      <td>2027-09-28</td>\n      <td>1</td>\n      <td>NaT</td>\n      <td>110</td>\n      <td>160</td>\n      <td>2</td>\n      <td>9</td>\n      <td>2</td>\n      <td>1</td>\n      <td>11</td>\n      <td>160000</td>\n      <td>1</td>\n    </tr>\n  </tbody>\n</table>\n</div>"
     },
     "execution_count": 3,
     "metadata": {},
     "output_type": "execute_result"
    }
   ],
   "source": [
    "wag_params = pd.read_parquet('train/wag_params.parquet').convert_dtypes()\n",
    "wag_params.head()"
   ],
   "metadata": {
    "collapsed": false,
    "ExecuteTime": {
     "end_time": "2023-11-11T11:22:53.937133100Z",
     "start_time": "2023-11-11T11:22:53.050094Z"
    }
   },
   "id": "4cb1ec18b422e9f1"
  },
  {
   "cell_type": "code",
   "execution_count": 4,
   "outputs": [
    {
     "data": {
      "text/plain": "1    20785\n0    13192\nName: rod_id, dtype: Int64"
     },
     "execution_count": 4,
     "metadata": {},
     "output_type": "execute_result"
    }
   ],
   "source": [
    "wag_params['rod_id'].value_counts()"
   ],
   "metadata": {
    "collapsed": false,
    "ExecuteTime": {
     "end_time": "2023-11-11T11:22:53.972132500Z",
     "start_time": "2023-11-11T11:22:53.939134900Z"
    }
   },
   "id": "98103094f011a948"
  },
  {
   "cell_type": "code",
   "execution_count": 5,
   "outputs": [
    {
     "name": "stdout",
     "output_type": "stream",
     "text": [
      "<class 'pandas.core.frame.DataFrame'>\n",
      "Int64Index: 33977 entries, 3218 to 33707\n",
      "Data columns (total 20 columns):\n",
      " #   Column              Non-Null Count  Dtype         \n",
      "---  ------              --------------  -----         \n",
      " 0   wagnum              33977 non-null  Int64         \n",
      " 1   model               33977 non-null  string        \n",
      " 2   rod_id              33977 non-null  Int64         \n",
      " 3   gruz                33977 non-null  Int64         \n",
      " 4   cnsi_gruz_capacity  33977 non-null  Int64         \n",
      " 5   cnsi_volumek        33977 non-null  Float64       \n",
      " 6   tara                33977 non-null  Int64         \n",
      " 7   date_build          33977 non-null  datetime64[ns]\n",
      " 8   srok_sl             33977 non-null  datetime64[ns]\n",
      " 9   zavod_build         33977 non-null  Int64         \n",
      " 10  date_iskl           116 non-null    datetime64[ns]\n",
      " 11  cnsi_probeg_dr      33977 non-null  Int64         \n",
      " 12  cnsi_probeg_kr      33977 non-null  Int64         \n",
      " 13  kuzov               33977 non-null  Int64         \n",
      " 14  telega              33977 non-null  Int64         \n",
      " 15  tormoz              33977 non-null  Int64         \n",
      " 16  tipvozd             33977 non-null  string        \n",
      " 17  tippogl             33918 non-null  Int64         \n",
      " 18  norma_km            33977 non-null  Int64         \n",
      " 19  ownertype           33977 non-null  Int64         \n",
      "dtypes: Float64(1), Int64(14), datetime64[ns](3), string(2)\n",
      "memory usage: 5.9 MB\n"
     ]
    }
   ],
   "source": [
    "wag_params.info()"
   ],
   "metadata": {
    "collapsed": false,
    "ExecuteTime": {
     "end_time": "2023-11-11T11:22:54.083152400Z",
     "start_time": "2023-11-11T11:22:53.953134200Z"
    }
   },
   "id": "5a5e52acdaf9f27b"
  },
  {
   "cell_type": "code",
   "execution_count": 6,
   "outputs": [
    {
     "data": {
      "text/plain": "7     17047\n1      7929\n4      2984\n6      2308\n19     1362\n16     1148\n10      636\n8       462\n3        68\n21       30\n2         2\n9         1\nName: tipvozd, dtype: Int64"
     },
     "execution_count": 6,
     "metadata": {},
     "output_type": "execute_result"
    }
   ],
   "source": [
    "wag_params['tipvozd'].value_counts()"
   ],
   "metadata": {
    "collapsed": false,
    "ExecuteTime": {
     "end_time": "2023-11-11T11:22:54.121150700Z",
     "start_time": "2023-11-11T11:22:53.985135300Z"
    }
   },
   "id": "425fae33d4120bd2"
  },
  {
   "cell_type": "code",
   "execution_count": 7,
   "outputs": [
    {
     "data": {
      "text/plain": "            wagnum    rod_id        gruz  cnsi_gruz_capacity  cnsi_volumek  \\\ncount      33977.0   33977.0     33977.0             33977.0       33977.0   \nmean       16988.0  0.611737  688.714101          688.714101    111.040586   \nstd    9808.459385  0.487362   15.580777           15.580777     30.912871   \nmin            0.0       0.0       660.0               660.0          73.0   \n25%         8494.0       0.0       672.0               672.0          88.0   \n50%        16988.0       1.0       695.0               695.0          88.0   \n75%        25482.0       1.0       695.0               695.0         138.0   \nmax        33976.0       1.0       750.0               750.0         174.0   \n\n             tara  zavod_build  cnsi_probeg_dr  cnsi_probeg_kr      kuzov  \\\ncount     33977.0      33977.0         33977.0         33977.0    33977.0   \nmean   249.879154      3.21959      123.393178      171.844483   6.885158   \nstd     13.399171     5.753529       49.404179       56.292032  10.748415   \nmin         217.0          0.0           110.0             0.0        1.0   \n25%         240.0          0.0           110.0           160.0        2.0   \n50%         243.0          1.0           110.0           160.0        2.0   \n75%         265.0          2.0           110.0           160.0        2.0   \nmax         273.0         23.0           350.0           500.0       43.0   \n\n         telega    tormoz    tippogl       norma_km  ownertype  \ncount   33977.0   33977.0    33918.0        33977.0    33977.0  \nmean   8.460076  2.187656  10.040981  164723.195103   0.077199  \nstd    4.058315  0.391723   3.489276   55328.136262   0.266911  \nmin         2.0       1.0        1.0            0.0        0.0  \n25%         9.0       2.0       11.0       160000.0        0.0  \n50%         9.0       2.0       11.0       160000.0        0.0  \n75%         9.0       2.0       11.0       160000.0        0.0  \nmax        27.0       3.0       21.0       500000.0        1.0  ",
      "text/html": "<div>\n<style scoped>\n    .dataframe tbody tr th:only-of-type {\n        vertical-align: middle;\n    }\n\n    .dataframe tbody tr th {\n        vertical-align: top;\n    }\n\n    .dataframe thead th {\n        text-align: right;\n    }\n</style>\n<table border=\"1\" class=\"dataframe\">\n  <thead>\n    <tr style=\"text-align: right;\">\n      <th></th>\n      <th>wagnum</th>\n      <th>rod_id</th>\n      <th>gruz</th>\n      <th>cnsi_gruz_capacity</th>\n      <th>cnsi_volumek</th>\n      <th>tara</th>\n      <th>zavod_build</th>\n      <th>cnsi_probeg_dr</th>\n      <th>cnsi_probeg_kr</th>\n      <th>kuzov</th>\n      <th>telega</th>\n      <th>tormoz</th>\n      <th>tippogl</th>\n      <th>norma_km</th>\n      <th>ownertype</th>\n    </tr>\n  </thead>\n  <tbody>\n    <tr>\n      <th>count</th>\n      <td>33977.0</td>\n      <td>33977.0</td>\n      <td>33977.0</td>\n      <td>33977.0</td>\n      <td>33977.0</td>\n      <td>33977.0</td>\n      <td>33977.0</td>\n      <td>33977.0</td>\n      <td>33977.0</td>\n      <td>33977.0</td>\n      <td>33977.0</td>\n      <td>33977.0</td>\n      <td>33918.0</td>\n      <td>33977.0</td>\n      <td>33977.0</td>\n    </tr>\n    <tr>\n      <th>mean</th>\n      <td>16988.0</td>\n      <td>0.611737</td>\n      <td>688.714101</td>\n      <td>688.714101</td>\n      <td>111.040586</td>\n      <td>249.879154</td>\n      <td>3.21959</td>\n      <td>123.393178</td>\n      <td>171.844483</td>\n      <td>6.885158</td>\n      <td>8.460076</td>\n      <td>2.187656</td>\n      <td>10.040981</td>\n      <td>164723.195103</td>\n      <td>0.077199</td>\n    </tr>\n    <tr>\n      <th>std</th>\n      <td>9808.459385</td>\n      <td>0.487362</td>\n      <td>15.580777</td>\n      <td>15.580777</td>\n      <td>30.912871</td>\n      <td>13.399171</td>\n      <td>5.753529</td>\n      <td>49.404179</td>\n      <td>56.292032</td>\n      <td>10.748415</td>\n      <td>4.058315</td>\n      <td>0.391723</td>\n      <td>3.489276</td>\n      <td>55328.136262</td>\n      <td>0.266911</td>\n    </tr>\n    <tr>\n      <th>min</th>\n      <td>0.0</td>\n      <td>0.0</td>\n      <td>660.0</td>\n      <td>660.0</td>\n      <td>73.0</td>\n      <td>217.0</td>\n      <td>0.0</td>\n      <td>110.0</td>\n      <td>0.0</td>\n      <td>1.0</td>\n      <td>2.0</td>\n      <td>1.0</td>\n      <td>1.0</td>\n      <td>0.0</td>\n      <td>0.0</td>\n    </tr>\n    <tr>\n      <th>25%</th>\n      <td>8494.0</td>\n      <td>0.0</td>\n      <td>672.0</td>\n      <td>672.0</td>\n      <td>88.0</td>\n      <td>240.0</td>\n      <td>0.0</td>\n      <td>110.0</td>\n      <td>160.0</td>\n      <td>2.0</td>\n      <td>9.0</td>\n      <td>2.0</td>\n      <td>11.0</td>\n      <td>160000.0</td>\n      <td>0.0</td>\n    </tr>\n    <tr>\n      <th>50%</th>\n      <td>16988.0</td>\n      <td>1.0</td>\n      <td>695.0</td>\n      <td>695.0</td>\n      <td>88.0</td>\n      <td>243.0</td>\n      <td>1.0</td>\n      <td>110.0</td>\n      <td>160.0</td>\n      <td>2.0</td>\n      <td>9.0</td>\n      <td>2.0</td>\n      <td>11.0</td>\n      <td>160000.0</td>\n      <td>0.0</td>\n    </tr>\n    <tr>\n      <th>75%</th>\n      <td>25482.0</td>\n      <td>1.0</td>\n      <td>695.0</td>\n      <td>695.0</td>\n      <td>138.0</td>\n      <td>265.0</td>\n      <td>2.0</td>\n      <td>110.0</td>\n      <td>160.0</td>\n      <td>2.0</td>\n      <td>9.0</td>\n      <td>2.0</td>\n      <td>11.0</td>\n      <td>160000.0</td>\n      <td>0.0</td>\n    </tr>\n    <tr>\n      <th>max</th>\n      <td>33976.0</td>\n      <td>1.0</td>\n      <td>750.0</td>\n      <td>750.0</td>\n      <td>174.0</td>\n      <td>273.0</td>\n      <td>23.0</td>\n      <td>350.0</td>\n      <td>500.0</td>\n      <td>43.0</td>\n      <td>27.0</td>\n      <td>3.0</td>\n      <td>21.0</td>\n      <td>500000.0</td>\n      <td>1.0</td>\n    </tr>\n  </tbody>\n</table>\n</div>"
     },
     "execution_count": 7,
     "metadata": {},
     "output_type": "execute_result"
    }
   ],
   "source": [
    "wag_params.describe()"
   ],
   "metadata": {
    "collapsed": false,
    "ExecuteTime": {
     "end_time": "2023-11-11T11:22:54.148151400Z",
     "start_time": "2023-11-11T11:22:54.001134500Z"
    }
   },
   "id": "32df060ab887f36c"
  },
  {
   "cell_type": "code",
   "execution_count": 8,
   "outputs": [
    {
     "data": {
      "text/plain": "     repdate  wagnum  ost_prob  manage_type  rod_id  reestr_state  \\\n0 2022-08-01   33361      7541            0       1             1   \n1 2022-08-02   33361      7243            0       1             1   \n2 2022-08-03   33361      6990            0       1             1   \n3 2022-08-04   33361      6347            0       1             1   \n4 2022-08-05   33361      6027            0       1             1   \n\n   ownership_type  month  \n0               0      8  \n1               0      8  \n2               0      8  \n3               0      8  \n4               0      8  ",
      "text/html": "<div>\n<style scoped>\n    .dataframe tbody tr th:only-of-type {\n        vertical-align: middle;\n    }\n\n    .dataframe tbody tr th {\n        vertical-align: top;\n    }\n\n    .dataframe thead th {\n        text-align: right;\n    }\n</style>\n<table border=\"1\" class=\"dataframe\">\n  <thead>\n    <tr style=\"text-align: right;\">\n      <th></th>\n      <th>repdate</th>\n      <th>wagnum</th>\n      <th>ost_prob</th>\n      <th>manage_type</th>\n      <th>rod_id</th>\n      <th>reestr_state</th>\n      <th>ownership_type</th>\n      <th>month</th>\n    </tr>\n  </thead>\n  <tbody>\n    <tr>\n      <th>0</th>\n      <td>2022-08-01</td>\n      <td>33361</td>\n      <td>7541</td>\n      <td>0</td>\n      <td>1</td>\n      <td>1</td>\n      <td>0</td>\n      <td>8</td>\n    </tr>\n    <tr>\n      <th>1</th>\n      <td>2022-08-02</td>\n      <td>33361</td>\n      <td>7243</td>\n      <td>0</td>\n      <td>1</td>\n      <td>1</td>\n      <td>0</td>\n      <td>8</td>\n    </tr>\n    <tr>\n      <th>2</th>\n      <td>2022-08-03</td>\n      <td>33361</td>\n      <td>6990</td>\n      <td>0</td>\n      <td>1</td>\n      <td>1</td>\n      <td>0</td>\n      <td>8</td>\n    </tr>\n    <tr>\n      <th>3</th>\n      <td>2022-08-04</td>\n      <td>33361</td>\n      <td>6347</td>\n      <td>0</td>\n      <td>1</td>\n      <td>1</td>\n      <td>0</td>\n      <td>8</td>\n    </tr>\n    <tr>\n      <th>4</th>\n      <td>2022-08-05</td>\n      <td>33361</td>\n      <td>6027</td>\n      <td>0</td>\n      <td>1</td>\n      <td>1</td>\n      <td>0</td>\n      <td>8</td>\n    </tr>\n  </tbody>\n</table>\n</div>"
     },
     "execution_count": 8,
     "metadata": {},
     "output_type": "execute_result"
    }
   ],
   "source": [
    "wagons_probeg_ownersip = pd.read_parquet('train/wagons_probeg_ownersip.parquet').convert_dtypes()\n",
    "wagons_probeg_ownersip.head()"
   ],
   "metadata": {
    "collapsed": false,
    "ExecuteTime": {
     "end_time": "2023-11-11T11:22:58.161228300Z",
     "start_time": "2023-11-11T11:22:54.078152800Z"
    }
   },
   "id": "d65a24454506a269"
  },
  {
   "cell_type": "code",
   "execution_count": 9,
   "outputs": [
    {
     "data": {
      "text/plain": "             wagnum      ost_prob  manage_type     rod_id  reestr_state  \\\ncount     6249857.0     5992898.0    6249857.0  6249857.0     6249857.0   \nmean   16990.016822  87916.423663      0.06577   0.611887      1.000644   \nstd     9808.047671  71430.597863      0.24788   0.487321      0.027175   \nmin             0.0      -48906.0          0.0        0.0           0.0   \n25%          8499.0       34619.0          0.0        0.0           1.0   \n50%         16992.0       78306.5          0.0        1.0           1.0   \n75%         25484.0      130621.0          0.0        1.0           1.0   \nmax         33976.0      500000.0          1.0        1.0           2.0   \n\n       ownership_type      month  \ncount       6249857.0  6249857.0  \nmean              0.0   8.485699  \nstd               0.0   3.606935  \nmin               0.0        1.0  \n25%               0.0        8.0  \n50%               0.0       10.0  \n75%               0.0       11.0  \nmax               0.0       12.0  ",
      "text/html": "<div>\n<style scoped>\n    .dataframe tbody tr th:only-of-type {\n        vertical-align: middle;\n    }\n\n    .dataframe tbody tr th {\n        vertical-align: top;\n    }\n\n    .dataframe thead th {\n        text-align: right;\n    }\n</style>\n<table border=\"1\" class=\"dataframe\">\n  <thead>\n    <tr style=\"text-align: right;\">\n      <th></th>\n      <th>wagnum</th>\n      <th>ost_prob</th>\n      <th>manage_type</th>\n      <th>rod_id</th>\n      <th>reestr_state</th>\n      <th>ownership_type</th>\n      <th>month</th>\n    </tr>\n  </thead>\n  <tbody>\n    <tr>\n      <th>count</th>\n      <td>6249857.0</td>\n      <td>5992898.0</td>\n      <td>6249857.0</td>\n      <td>6249857.0</td>\n      <td>6249857.0</td>\n      <td>6249857.0</td>\n      <td>6249857.0</td>\n    </tr>\n    <tr>\n      <th>mean</th>\n      <td>16990.016822</td>\n      <td>87916.423663</td>\n      <td>0.06577</td>\n      <td>0.611887</td>\n      <td>1.000644</td>\n      <td>0.0</td>\n      <td>8.485699</td>\n    </tr>\n    <tr>\n      <th>std</th>\n      <td>9808.047671</td>\n      <td>71430.597863</td>\n      <td>0.24788</td>\n      <td>0.487321</td>\n      <td>0.027175</td>\n      <td>0.0</td>\n      <td>3.606935</td>\n    </tr>\n    <tr>\n      <th>min</th>\n      <td>0.0</td>\n      <td>-48906.0</td>\n      <td>0.0</td>\n      <td>0.0</td>\n      <td>0.0</td>\n      <td>0.0</td>\n      <td>1.0</td>\n    </tr>\n    <tr>\n      <th>25%</th>\n      <td>8499.0</td>\n      <td>34619.0</td>\n      <td>0.0</td>\n      <td>0.0</td>\n      <td>1.0</td>\n      <td>0.0</td>\n      <td>8.0</td>\n    </tr>\n    <tr>\n      <th>50%</th>\n      <td>16992.0</td>\n      <td>78306.5</td>\n      <td>0.0</td>\n      <td>1.0</td>\n      <td>1.0</td>\n      <td>0.0</td>\n      <td>10.0</td>\n    </tr>\n    <tr>\n      <th>75%</th>\n      <td>25484.0</td>\n      <td>130621.0</td>\n      <td>0.0</td>\n      <td>1.0</td>\n      <td>1.0</td>\n      <td>0.0</td>\n      <td>11.0</td>\n    </tr>\n    <tr>\n      <th>max</th>\n      <td>33976.0</td>\n      <td>500000.0</td>\n      <td>1.0</td>\n      <td>1.0</td>\n      <td>2.0</td>\n      <td>0.0</td>\n      <td>12.0</td>\n    </tr>\n  </tbody>\n</table>\n</div>"
     },
     "execution_count": 9,
     "metadata": {},
     "output_type": "execute_result"
    }
   ],
   "source": [
    "wagons_probeg_ownersip.describe()"
   ],
   "metadata": {
    "collapsed": false,
    "ExecuteTime": {
     "end_time": "2023-11-11T11:22:59.898868400Z",
     "start_time": "2023-11-11T11:22:58.164228500Z"
    }
   },
   "id": "fa927ae03bc77a57"
  },
  {
   "cell_type": "code",
   "execution_count": 10,
   "outputs": [
    {
     "name": "stdout",
     "output_type": "stream",
     "text": [
      "<class 'pandas.core.frame.DataFrame'>\n",
      "Int64Index: 6249857 entries, 0 to 9249588\n",
      "Data columns (total 8 columns):\n",
      " #   Column          Dtype         \n",
      "---  ------          -----         \n",
      " 0   repdate         datetime64[ns]\n",
      " 1   wagnum          Int64         \n",
      " 2   ost_prob        Int64         \n",
      " 3   manage_type     Int64         \n",
      " 4   rod_id          Int64         \n",
      " 5   reestr_state    Int64         \n",
      " 6   ownership_type  Int64         \n",
      " 7   month           Int64         \n",
      "dtypes: Int64(7), datetime64[ns](1)\n",
      "memory usage: 470.9 MB\n"
     ]
    }
   ],
   "source": [
    "wagons_probeg_ownersip.info()"
   ],
   "metadata": {
    "collapsed": false,
    "ExecuteTime": {
     "end_time": "2023-11-11T11:22:59.925875400Z",
     "start_time": "2023-11-11T11:22:59.900845200Z"
    }
   },
   "id": "c8222620f4c03b96"
  },
  {
   "cell_type": "code",
   "execution_count": 11,
   "outputs": [
    {
     "data": {
      "text/plain": "33361    184\n6957     184\n18712    184\n8667     184\n25799    184\n        ... \n8061     148\n26318    144\n28344    134\n8099     128\n33350     41\nName: wagnum, Length: 33977, dtype: Int64"
     },
     "execution_count": 11,
     "metadata": {},
     "output_type": "execute_result"
    }
   ],
   "source": [
    "wagons_probeg_ownersip['wagnum'].value_counts()"
   ],
   "metadata": {
    "collapsed": false,
    "ExecuteTime": {
     "end_time": "2023-11-11T11:23:00.027844600Z",
     "start_time": "2023-11-11T11:22:59.918876600Z"
    }
   },
   "id": "a7d496fd0210b0d6"
  },
  {
   "cell_type": "code",
   "execution_count": 12,
   "outputs": [
    {
     "data": {
      "text/plain": "33977"
     },
     "execution_count": 12,
     "metadata": {},
     "output_type": "execute_result"
    }
   ],
   "source": [
    "wagons_probeg_ownersip['wagnum'].nunique()"
   ],
   "metadata": {
    "collapsed": false,
    "ExecuteTime": {
     "end_time": "2023-11-11T11:23:00.088556Z",
     "start_time": "2023-11-11T11:23:00.027844600Z"
    }
   },
   "id": "d3f66818838bc60b"
  },
  {
   "cell_type": "code",
   "execution_count": 13,
   "outputs": [
    {
     "data": {
      "text/plain": "<Axes: xlabel='repdate'>"
     },
     "execution_count": 13,
     "metadata": {},
     "output_type": "execute_result"
    },
    {
     "data": {
      "text/plain": "<Figure size 640x480 with 1 Axes>",
      "image/png": "[encoded data removed]"
     },
     "metadata": {},
     "output_type": "display_data"
    }
   ],
   "source": [
    "ts = wagons_probeg_ownersip[wagons_probeg_ownersip['wagnum'] == 33361][['repdate', 'ost_prob']]\n",
    "ts.plot('repdate', 'ost_prob')"
   ],
   "metadata": {
    "collapsed": false,
    "ExecuteTime": {
     "end_time": "2023-11-11T11:23:02.207306400Z",
     "start_time": "2023-11-11T11:23:00.090555900Z"
    }
   },
   "id": "6ddf5812a93f35fd"
  },
  {
   "cell_type": "code",
   "execution_count": 14,
   "outputs": [
    {
     "data": {
      "text/plain": "<Axes: >"
     },
     "execution_count": 14,
     "metadata": {},
     "output_type": "execute_result"
    },
    {
     "data": {
      "text/plain": "<Figure size 640x480 with 1 Axes>",
      "image/png": "[encoded data removed]"
     },
     "metadata": {},
     "output_type": "display_data"
    }
   ],
   "source": [
    "wagons_probeg_ownersip[wagons_probeg_ownersip['ost_prob']<10000]['ost_prob'].hist(bins=100)"
   ],
   "metadata": {
    "collapsed": false,
    "ExecuteTime": {
     "end_time": "2023-11-11T11:23:02.615308300Z",
     "start_time": "2023-11-11T11:23:02.206305900Z"
    }
   },
   "id": "d73869005436f9b4"
  },
  {
   "cell_type": "code",
   "execution_count": 15,
   "outputs": [
    {
     "data": {
      "text/plain": "<Axes: >"
     },
     "execution_count": 15,
     "metadata": {},
     "output_type": "execute_result"
    },
    {
     "data": {
      "text/plain": "<Figure size 640x480 with 1 Axes>",
      "image/png": "[encoded data removed]"
     },
     "metadata": {},
     "output_type": "display_data"
    }
   ],
   "source": [
    "wagons_probeg_ownersip['ost_prob'].hist(bins=100)"
   ],
   "metadata": {
    "collapsed": false,
    "ExecuteTime": {
     "end_time": "2023-11-11T11:23:04.298295600Z",
     "start_time": "2023-11-11T11:23:02.616311400Z"
    }
   },
   "id": "932c4ecddf366117"
  },
  {
   "cell_type": "code",
   "execution_count": 16,
   "outputs": [
    {
     "data": {
      "text/plain": "            ost_prob\nrepdate             \n2022-08-01      7541\n2022-08-02      7243\n2022-08-03      6990\n2022-08-04      6347\n2022-08-05      6027\n...              ...\n2023-01-27    151623\n2023-01-28    151419\n2023-01-29    151055\n2023-01-30    151055\n2023-01-31    150961\n\n[184 rows x 1 columns]",
      "text/html": "<div>\n<style scoped>\n    .dataframe tbody tr th:only-of-type {\n        vertical-align: middle;\n    }\n\n    .dataframe tbody tr th {\n        vertical-align: top;\n    }\n\n    .dataframe thead th {\n        text-align: right;\n    }\n</style>\n<table border=\"1\" class=\"dataframe\">\n  <thead>\n    <tr style=\"text-align: right;\">\n      <th></th>\n      <th>ost_prob</th>\n    </tr>\n    <tr>\n      <th>repdate</th>\n      <th></th>\n    </tr>\n  </thead>\n  <tbody>\n    <tr>\n      <th>2022-08-01</th>\n      <td>7541</td>\n    </tr>\n    <tr>\n      <th>2022-08-02</th>\n      <td>7243</td>\n    </tr>\n    <tr>\n      <th>2022-08-03</th>\n      <td>6990</td>\n    </tr>\n    <tr>\n      <th>2022-08-04</th>\n      <td>6347</td>\n    </tr>\n    <tr>\n      <th>2022-08-05</th>\n      <td>6027</td>\n    </tr>\n    <tr>\n      <th>...</th>\n      <td>...</td>\n    </tr>\n    <tr>\n      <th>2023-01-27</th>\n      <td>151623</td>\n    </tr>\n    <tr>\n      <th>2023-01-28</th>\n      <td>151419</td>\n    </tr>\n    <tr>\n      <th>2023-01-29</th>\n      <td>151055</td>\n    </tr>\n    <tr>\n      <th>2023-01-30</th>\n      <td>151055</td>\n    </tr>\n    <tr>\n      <th>2023-01-31</th>\n      <td>150961</td>\n    </tr>\n  </tbody>\n</table>\n<p>184 rows × 1 columns</p>\n</div>"
     },
     "execution_count": 16,
     "metadata": {},
     "output_type": "execute_result"
    }
   ],
   "source": [
    "ts_1 = ts.set_index('repdate')\n",
    "ts_1"
   ],
   "metadata": {
    "collapsed": false,
    "ExecuteTime": {
     "end_time": "2023-11-11T11:23:04.353295300Z",
     "start_time": "2023-11-11T11:23:04.300297100Z"
    }
   },
   "id": "77dd90c88a1424c7"
  },
  {
   "cell_type": "code",
   "execution_count": 17,
   "outputs": [
    {
     "data": {
      "text/plain": "     wagnum operation_date_dttm  mileage_all  axl1_l_w_flange  \\\n43     1302          2023-02-17        67638             29.6   \n60     1374          2023-02-25        83798             29.1   \n137    2916          2023-02-21       121660             30.4   \n196    3849          2023-02-19        59664             30.6   \n197    3849          2023-02-20        59664             30.9   \n\n     axl1_r_w_flange  axl2_l_w_flange  axl2_r_w_flange  axl3_l_w_flange  \\\n43              29.5             30.0             29.6             30.2   \n60              27.9             27.7             29.1             29.3   \n137             26.5             30.8             28.2             26.9   \n196             29.2             31.6             28.5             31.0   \n197             28.7             32.4             28.1             31.0   \n\n     axl3_r_w_flange  axl4_l_w_flange  axl4_r_w_flange  axl1_l_w_rim  \\\n43              29.9             30.9             29.5          37.8   \n60              30.2             29.4             27.5          48.9   \n137             27.1             29.8             31.2          69.2   \n196             30.7             29.3             30.0          75.1   \n197             29.7             30.5             29.9          75.6   \n\n     axl1_r_w_rim  axl2_l_w_rim  axl2_r_w_rim  axl3_l_w_rim  axl3_r_w_rim  \\\n43           39.2          39.5          38.9          41.8          38.9   \n60           49.0          49.7          51.0          30.7          32.4   \n137          66.7          66.8          63.7          66.1          66.3   \n196          76.1          74.8          73.7          75.6          76.8   \n197          76.8          74.1          74.7          75.8          77.0   \n\n     axl4_l_w_rim  axl4_r_w_rim  \n43           36.5          38.2  \n60           30.6          28.8  \n137          68.1          67.6  \n196          72.2          72.9  \n197          74.9          74.2  ",
      "text/html": "<div>\n<style scoped>\n    .dataframe tbody tr th:only-of-type {\n        vertical-align: middle;\n    }\n\n    .dataframe tbody tr th {\n        vertical-align: top;\n    }\n\n    .dataframe thead th {\n        text-align: right;\n    }\n</style>\n<table border=\"1\" class=\"dataframe\">\n  <thead>\n    <tr style=\"text-align: right;\">\n      <th></th>\n      <th>wagnum</th>\n      <th>operation_date_dttm</th>\n      <th>mileage_all</th>\n      <th>axl1_l_w_flange</th>\n      <th>axl1_r_w_flange</th>\n      <th>axl2_l_w_flange</th>\n      <th>axl2_r_w_flange</th>\n      <th>axl3_l_w_flange</th>\n      <th>axl3_r_w_flange</th>\n      <th>axl4_l_w_flange</th>\n      <th>axl4_r_w_flange</th>\n      <th>axl1_l_w_rim</th>\n      <th>axl1_r_w_rim</th>\n      <th>axl2_l_w_rim</th>\n      <th>axl2_r_w_rim</th>\n      <th>axl3_l_w_rim</th>\n      <th>axl3_r_w_rim</th>\n      <th>axl4_l_w_rim</th>\n      <th>axl4_r_w_rim</th>\n    </tr>\n  </thead>\n  <tbody>\n    <tr>\n      <th>43</th>\n      <td>1302</td>\n      <td>2023-02-17</td>\n      <td>67638</td>\n      <td>29.6</td>\n      <td>29.5</td>\n      <td>30.0</td>\n      <td>29.6</td>\n      <td>30.2</td>\n      <td>29.9</td>\n      <td>30.9</td>\n      <td>29.5</td>\n      <td>37.8</td>\n      <td>39.2</td>\n      <td>39.5</td>\n      <td>38.9</td>\n      <td>41.8</td>\n      <td>38.9</td>\n      <td>36.5</td>\n      <td>38.2</td>\n    </tr>\n    <tr>\n      <th>60</th>\n      <td>1374</td>\n      <td>2023-02-25</td>\n      <td>83798</td>\n      <td>29.1</td>\n      <td>27.9</td>\n      <td>27.7</td>\n      <td>29.1</td>\n      <td>29.3</td>\n      <td>30.2</td>\n      <td>29.4</td>\n      <td>27.5</td>\n      <td>48.9</td>\n      <td>49.0</td>\n      <td>49.7</td>\n      <td>51.0</td>\n      <td>30.7</td>\n      <td>32.4</td>\n      <td>30.6</td>\n      <td>28.8</td>\n    </tr>\n    <tr>\n      <th>137</th>\n      <td>2916</td>\n      <td>2023-02-21</td>\n      <td>121660</td>\n      <td>30.4</td>\n      <td>26.5</td>\n      <td>30.8</td>\n      <td>28.2</td>\n      <td>26.9</td>\n      <td>27.1</td>\n      <td>29.8</td>\n      <td>31.2</td>\n      <td>69.2</td>\n      <td>66.7</td>\n      <td>66.8</td>\n      <td>63.7</td>\n      <td>66.1</td>\n      <td>66.3</td>\n      <td>68.1</td>\n      <td>67.6</td>\n    </tr>\n    <tr>\n      <th>196</th>\n      <td>3849</td>\n      <td>2023-02-19</td>\n      <td>59664</td>\n      <td>30.6</td>\n      <td>29.2</td>\n      <td>31.6</td>\n      <td>28.5</td>\n      <td>31.0</td>\n      <td>30.7</td>\n      <td>29.3</td>\n      <td>30.0</td>\n      <td>75.1</td>\n      <td>76.1</td>\n      <td>74.8</td>\n      <td>73.7</td>\n      <td>75.6</td>\n      <td>76.8</td>\n      <td>72.2</td>\n      <td>72.9</td>\n    </tr>\n    <tr>\n      <th>197</th>\n      <td>3849</td>\n      <td>2023-02-20</td>\n      <td>59664</td>\n      <td>30.9</td>\n      <td>28.7</td>\n      <td>32.4</td>\n      <td>28.1</td>\n      <td>31.0</td>\n      <td>29.7</td>\n      <td>30.5</td>\n      <td>29.9</td>\n      <td>75.6</td>\n      <td>76.8</td>\n      <td>74.1</td>\n      <td>74.7</td>\n      <td>75.8</td>\n      <td>77.0</td>\n      <td>74.9</td>\n      <td>74.2</td>\n    </tr>\n  </tbody>\n</table>\n</div>"
     },
     "execution_count": 17,
     "metadata": {},
     "output_type": "execute_result"
    }
   ],
   "source": [
    "kti_izm_feb = pd.read_parquet('train/kti_izm_feb.parquet').convert_dtypes()\n",
    "kti_izm_feb.head()"
   ],
   "metadata": {
    "collapsed": false,
    "ExecuteTime": {
     "end_time": "2023-11-11T11:23:04.413297400Z",
     "start_time": "2023-11-11T11:23:04.316296400Z"
    }
   },
   "id": "3295c8aec6350d40"
  },
  {
   "cell_type": "code",
   "execution_count": 18,
   "outputs": [
    {
     "data": {
      "text/plain": "31902    14\n26132    13\n18051    13\n32583    12\n33973    12\n         ..\n5511      1\n5527      1\n5529      1\n19307     1\n29168     1\nName: wagnum, Length: 6686, dtype: Int64"
     },
     "execution_count": 18,
     "metadata": {},
     "output_type": "execute_result"
    }
   ],
   "source": [
    "kti_izm_feb['wagnum'].value_counts()"
   ],
   "metadata": {
    "collapsed": false,
    "ExecuteTime": {
     "end_time": "2023-11-11T11:23:04.436296300Z",
     "start_time": "2023-11-11T11:23:04.412296900Z"
    }
   },
   "id": "9a8eacf5b8639997"
  },
  {
   "cell_type": "code",
   "execution_count": 19,
   "outputs": [
    {
     "data": {
      "text/plain": "<Axes: >"
     },
     "execution_count": 19,
     "metadata": {},
     "output_type": "execute_result"
    },
    {
     "data": {
      "text/plain": "<Figure size 640x480 with 1 Axes>",
      "image/png": "[encoded data removed]"
     },
     "metadata": {},
     "output_type": "display_data"
    }
   ],
   "source": [
    "kti_izm_feb[kti_izm_feb['mileage_all'] < 10000]['mileage_all'].hist(bins=200)"
   ],
   "metadata": {
    "collapsed": false,
    "ExecuteTime": {
     "end_time": "2023-11-11T11:23:04.777296300Z",
     "start_time": "2023-11-11T11:23:04.428295800Z"
    }
   },
   "id": "2c210bebef69abdf"
  },
  {
   "cell_type": "code",
   "execution_count": 20,
   "outputs": [
    {
     "name": "stdout",
     "output_type": "stream",
     "text": [
      "<class 'pandas.core.frame.DataFrame'>\n",
      "Int64Index: 22428 entries, 43 to 212366\n",
      "Data columns (total 19 columns):\n",
      " #   Column               Non-Null Count  Dtype         \n",
      "---  ------               --------------  -----         \n",
      " 0   wagnum               22428 non-null  Int64         \n",
      " 1   operation_date_dttm  22428 non-null  datetime64[ns]\n",
      " 2   mileage_all          22155 non-null  Int64         \n",
      " 3   axl1_l_w_flange      22416 non-null  Float64       \n",
      " 4   axl1_r_w_flange      22409 non-null  Float64       \n",
      " 5   axl2_l_w_flange      22412 non-null  Float64       \n",
      " 6   axl2_r_w_flange      22408 non-null  Float64       \n",
      " 7   axl3_l_w_flange      22411 non-null  Float64       \n",
      " 8   axl3_r_w_flange      22407 non-null  Float64       \n",
      " 9   axl4_l_w_flange      22413 non-null  Float64       \n",
      " 10  axl4_r_w_flange      22416 non-null  Float64       \n",
      " 11  axl1_l_w_rim         22287 non-null  Float64       \n",
      " 12  axl1_r_w_rim         22296 non-null  Float64       \n",
      " 13  axl2_l_w_rim         22293 non-null  Float64       \n",
      " 14  axl2_r_w_rim         22292 non-null  Float64       \n",
      " 15  axl3_l_w_rim         22251 non-null  Float64       \n",
      " 16  axl3_r_w_rim         22273 non-null  Float64       \n",
      " 17  axl4_l_w_rim         22306 non-null  Float64       \n",
      " 18  axl4_r_w_rim         22318 non-null  Float64       \n",
      "dtypes: Float64(16), Int64(2), datetime64[ns](1)\n",
      "memory usage: 3.8 MB\n"
     ]
    }
   ],
   "source": [
    "kti_izm_feb.info()"
   ],
   "metadata": {
    "collapsed": false,
    "ExecuteTime": {
     "end_time": "2023-11-11T11:23:04.841297500Z",
     "start_time": "2023-11-11T11:23:04.779297600Z"
    }
   },
   "id": "67c8061abd937ede"
  },
  {
   "cell_type": "code",
   "execution_count": 21,
   "outputs": [
    {
     "data": {
      "text/plain": "             wagnum   mileage_all  axl1_l_w_flange  axl1_r_w_flange  \\\ncount       22428.0       22155.0          22416.0          22409.0   \nmean   19683.387462  73033.907967        29.125397        29.094069   \nstd     8668.476126  50476.484761         1.666071         1.674003   \nmin             0.0           1.0             23.5             23.4   \n25%         13734.0       25866.5             28.0             28.0   \n50%         21468.5       69234.0             29.1             29.0   \n75%        26323.25      116205.5             30.1             30.1   \nmax         33975.0      497856.0             34.0             34.0   \n\n       axl2_l_w_flange  axl2_r_w_flange  axl3_l_w_flange  axl3_r_w_flange  \\\ncount          22412.0          22408.0          22411.0          22407.0   \nmean         29.135227        29.175473        29.085556        29.050886   \nstd           1.711203         1.683929         1.666508         1.690736   \nmin               23.7             23.8             23.9             21.8   \n25%               28.0             28.1             28.0             27.9   \n50%               29.1             29.1             29.0             29.0   \n75%               30.2             30.2             30.1             30.1   \nmax               34.0             34.0             34.0             34.0   \n\n       axl4_l_w_flange  axl4_r_w_flange  axl1_l_w_rim  axl1_r_w_rim  \\\ncount          22413.0          22416.0       22287.0       22296.0   \nmean         29.204078         29.22972     61.914233     61.904517   \nstd           1.709619         1.678164     11.347351     11.364116   \nmin               23.4             23.8          25.2          22.8   \n25%               28.1             28.1          55.2          55.3   \n50%               29.2             29.2          64.3          64.3   \n75%               30.3             30.3          71.5          71.5   \nmax               33.9             34.0          79.9          80.0   \n\n       axl2_l_w_rim  axl2_r_w_rim  axl3_l_w_rim  axl3_r_w_rim  axl4_l_w_rim  \\\ncount       22293.0       22292.0       22251.0       22273.0       22306.0   \nmean      60.934675     60.933617     60.857292     60.833345      61.85672   \nstd       11.743708     11.724126     11.792706     11.773329     11.384352   \nmin            23.8          23.3          25.3          23.6          24.8   \n25%            53.7          53.8          53.5          53.6          54.9   \n50%            62.9          62.9          62.7          62.7          64.1   \n75%            70.9          70.7          71.0          70.9          71.7   \nmax            80.3          80.1          80.2          79.9          80.7   \n\n       axl4_r_w_rim  \ncount       22318.0  \nmean      61.822605  \nstd       11.367269  \nmin            23.5  \n25%            55.0  \n50%            64.1  \n75%            71.6  \nmax            79.9  ",
      "text/html": "<div>\n<style scoped>\n    .dataframe tbody tr th:only-of-type {\n        vertical-align: middle;\n    }\n\n    .dataframe tbody tr th {\n        vertical-align: top;\n    }\n\n    .dataframe thead th {\n        text-align: right;\n    }\n</style>\n<table border=\"1\" class=\"dataframe\">\n  <thead>\n    <tr style=\"text-align: right;\">\n      <th></th>\n      <th>wagnum</th>\n      <th>mileage_all</th>\n      <th>axl1_l_w_flange</th>\n      <th>axl1_r_w_flange</th>\n      <th>axl2_l_w_flange</th>\n      <th>axl2_r_w_flange</th>\n      <th>axl3_l_w_flange</th>\n      <th>axl3_r_w_flange</th>\n      <th>axl4_l_w_flange</th>\n      <th>axl4_r_w_flange</th>\n      <th>axl1_l_w_rim</th>\n      <th>axl1_r_w_rim</th>\n      <th>axl2_l_w_rim</th>\n      <th>axl2_r_w_rim</th>\n      <th>axl3_l_w_rim</th>\n      <th>axl3_r_w_rim</th>\n      <th>axl4_l_w_rim</th>\n      <th>axl4_r_w_rim</th>\n    </tr>\n  </thead>\n  <tbody>\n    <tr>\n      <th>count</th>\n      <td>22428.0</td>\n      <td>22155.0</td>\n      <td>22416.0</td>\n      <td>22409.0</td>\n      <td>22412.0</td>\n      <td>22408.0</td>\n      <td>22411.0</td>\n      <td>22407.0</td>\n      <td>22413.0</td>\n      <td>22416.0</td>\n      <td>22287.0</td>\n      <td>22296.0</td>\n      <td>22293.0</td>\n      <td>22292.0</td>\n      <td>22251.0</td>\n      <td>22273.0</td>\n      <td>22306.0</td>\n      <td>22318.0</td>\n    </tr>\n    <tr>\n      <th>mean</th>\n      <td>19683.387462</td>\n      <td>73033.907967</td>\n      <td>29.125397</td>\n      <td>29.094069</td>\n      <td>29.135227</td>\n      <td>29.175473</td>\n      <td>29.085556</td>\n      <td>29.050886</td>\n      <td>29.204078</td>\n      <td>29.22972</td>\n      <td>61.914233</td>\n      <td>61.904517</td>\n      <td>60.934675</td>\n      <td>60.933617</td>\n      <td>60.857292</td>\n      <td>60.833345</td>\n      <td>61.85672</td>\n      <td>61.822605</td>\n    </tr>\n    <tr>\n      <th>std</th>\n      <td>8668.476126</td>\n      <td>50476.484761</td>\n      <td>1.666071</td>\n      <td>1.674003</td>\n      <td>1.711203</td>\n      <td>1.683929</td>\n      <td>1.666508</td>\n      <td>1.690736</td>\n      <td>1.709619</td>\n      <td>1.678164</td>\n      <td>11.347351</td>\n      <td>11.364116</td>\n      <td>11.743708</td>\n      <td>11.724126</td>\n      <td>11.792706</td>\n      <td>11.773329</td>\n      <td>11.384352</td>\n      <td>11.367269</td>\n    </tr>\n    <tr>\n      <th>min</th>\n      <td>0.0</td>\n      <td>1.0</td>\n      <td>23.5</td>\n      <td>23.4</td>\n      <td>23.7</td>\n      <td>23.8</td>\n      <td>23.9</td>\n      <td>21.8</td>\n      <td>23.4</td>\n      <td>23.8</td>\n      <td>25.2</td>\n      <td>22.8</td>\n      <td>23.8</td>\n      <td>23.3</td>\n      <td>25.3</td>\n      <td>23.6</td>\n      <td>24.8</td>\n      <td>23.5</td>\n    </tr>\n    <tr>\n      <th>25%</th>\n      <td>13734.0</td>\n      <td>25866.5</td>\n      <td>28.0</td>\n      <td>28.0</td>\n      <td>28.0</td>\n      <td>28.1</td>\n      <td>28.0</td>\n      <td>27.9</td>\n      <td>28.1</td>\n      <td>28.1</td>\n      <td>55.2</td>\n      <td>55.3</td>\n      <td>53.7</td>\n      <td>53.8</td>\n      <td>53.5</td>\n      <td>53.6</td>\n      <td>54.9</td>\n      <td>55.0</td>\n    </tr>\n    <tr>\n      <th>50%</th>\n      <td>21468.5</td>\n      <td>69234.0</td>\n      <td>29.1</td>\n      <td>29.0</td>\n      <td>29.1</td>\n      <td>29.1</td>\n      <td>29.0</td>\n      <td>29.0</td>\n      <td>29.2</td>\n      <td>29.2</td>\n      <td>64.3</td>\n      <td>64.3</td>\n      <td>62.9</td>\n      <td>62.9</td>\n      <td>62.7</td>\n      <td>62.7</td>\n      <td>64.1</td>\n      <td>64.1</td>\n    </tr>\n    <tr>\n      <th>75%</th>\n      <td>26323.25</td>\n      <td>116205.5</td>\n      <td>30.1</td>\n      <td>30.1</td>\n      <td>30.2</td>\n      <td>30.2</td>\n      <td>30.1</td>\n      <td>30.1</td>\n      <td>30.3</td>\n      <td>30.3</td>\n      <td>71.5</td>\n      <td>71.5</td>\n      <td>70.9</td>\n      <td>70.7</td>\n      <td>71.0</td>\n      <td>70.9</td>\n      <td>71.7</td>\n      <td>71.6</td>\n    </tr>\n    <tr>\n      <th>max</th>\n      <td>33975.0</td>\n      <td>497856.0</td>\n      <td>34.0</td>\n      <td>34.0</td>\n      <td>34.0</td>\n      <td>34.0</td>\n      <td>34.0</td>\n      <td>34.0</td>\n      <td>33.9</td>\n      <td>34.0</td>\n      <td>79.9</td>\n      <td>80.0</td>\n      <td>80.3</td>\n      <td>80.1</td>\n      <td>80.2</td>\n      <td>79.9</td>\n      <td>80.7</td>\n      <td>79.9</td>\n    </tr>\n  </tbody>\n</table>\n</div>"
     },
     "execution_count": 21,
     "metadata": {},
     "output_type": "execute_result"
    }
   ],
   "source": [
    "kti_izm_feb.describe()"
   ],
   "metadata": {
    "collapsed": false,
    "ExecuteTime": {
     "end_time": "2023-11-11T11:23:04.885297100Z",
     "start_time": "2023-11-11T11:23:04.794298500Z"
    }
   },
   "id": "679a07298d83c643"
  },
  {
   "cell_type": "code",
   "execution_count": 22,
   "outputs": [
    {
     "data": {
      "text/plain": "6686"
     },
     "execution_count": 22,
     "metadata": {},
     "output_type": "execute_result"
    }
   ],
   "source": [
    "kti_izm_feb.wagnum.nunique()"
   ],
   "metadata": {
    "collapsed": false,
    "ExecuteTime": {
     "end_time": "2023-11-11T11:23:04.910296Z",
     "start_time": "2023-11-11T11:23:04.887297400Z"
    }
   },
   "id": "f4f5d092d7fd9198"
  },
  {
   "cell_type": "code",
   "execution_count": 23,
   "outputs": [
    {
     "data": {
      "text/plain": "   wagnum operation_date_dttm  mileage_all  axl1_l_w_flange  axl1_r_w_flange  \\\n0     325          2022-08-01       112091             30.5             31.0   \n1     325          2022-08-03       112471             30.4             31.4   \n2     325          2022-08-05       113938             30.0             31.1   \n3     325          2022-09-15       121071             30.5             31.4   \n4     325          2022-09-09       117341             30.7             31.5   \n\n   axl2_l_w_flange  axl2_r_w_flange  axl3_l_w_flange  axl3_r_w_flange  \\\n0             26.7             27.4             28.8             28.6   \n1             27.5             27.6             28.9             29.0   \n2             27.1             27.9             28.5             28.9   \n3             26.4             27.3             28.9             28.4   \n4             26.9             27.1             28.9             28.5   \n\n   axl4_l_w_flange  axl4_r_w_flange  axl1_l_w_rim  axl1_r_w_rim  axl2_l_w_rim  \\\n0             26.3             27.4          67.5          65.6          66.7   \n1             25.5             27.8          65.7          65.8          65.7   \n2             26.2             27.6          70.8          69.5          65.1   \n3             24.9             28.0          70.2          68.1          67.4   \n4             25.5             27.5          68.1          64.1          64.5   \n\n   axl2_r_w_rim  axl3_l_w_rim  axl3_r_w_rim  axl4_l_w_rim  axl4_r_w_rim  \n0          64.5          61.5          60.3          67.9          66.8  \n1          63.7          61.6          61.4          67.4          69.3  \n2          65.6          62.2          60.7          65.7          69.6  \n3          65.8          62.3          63.0          70.9          70.3  \n4          64.9          61.6          61.1          68.7          <NA>  ",
      "text/html": "<div>\n<style scoped>\n    .dataframe tbody tr th:only-of-type {\n        vertical-align: middle;\n    }\n\n    .dataframe tbody tr th {\n        vertical-align: top;\n    }\n\n    .dataframe thead th {\n        text-align: right;\n    }\n</style>\n<table border=\"1\" class=\"dataframe\">\n  <thead>\n    <tr style=\"text-align: right;\">\n      <th></th>\n      <th>wagnum</th>\n      <th>operation_date_dttm</th>\n      <th>mileage_all</th>\n      <th>axl1_l_w_flange</th>\n      <th>axl1_r_w_flange</th>\n      <th>axl2_l_w_flange</th>\n      <th>axl2_r_w_flange</th>\n      <th>axl3_l_w_flange</th>\n      <th>axl3_r_w_flange</th>\n      <th>axl4_l_w_flange</th>\n      <th>axl4_r_w_flange</th>\n      <th>axl1_l_w_rim</th>\n      <th>axl1_r_w_rim</th>\n      <th>axl2_l_w_rim</th>\n      <th>axl2_r_w_rim</th>\n      <th>axl3_l_w_rim</th>\n      <th>axl3_r_w_rim</th>\n      <th>axl4_l_w_rim</th>\n      <th>axl4_r_w_rim</th>\n    </tr>\n  </thead>\n  <tbody>\n    <tr>\n      <th>0</th>\n      <td>325</td>\n      <td>2022-08-01</td>\n      <td>112091</td>\n      <td>30.5</td>\n      <td>31.0</td>\n      <td>26.7</td>\n      <td>27.4</td>\n      <td>28.8</td>\n      <td>28.6</td>\n      <td>26.3</td>\n      <td>27.4</td>\n      <td>67.5</td>\n      <td>65.6</td>\n      <td>66.7</td>\n      <td>64.5</td>\n      <td>61.5</td>\n      <td>60.3</td>\n      <td>67.9</td>\n      <td>66.8</td>\n    </tr>\n    <tr>\n      <th>1</th>\n      <td>325</td>\n      <td>2022-08-03</td>\n      <td>112471</td>\n      <td>30.4</td>\n      <td>31.4</td>\n      <td>27.5</td>\n      <td>27.6</td>\n      <td>28.9</td>\n      <td>29.0</td>\n      <td>25.5</td>\n      <td>27.8</td>\n      <td>65.7</td>\n      <td>65.8</td>\n      <td>65.7</td>\n      <td>63.7</td>\n      <td>61.6</td>\n      <td>61.4</td>\n      <td>67.4</td>\n      <td>69.3</td>\n    </tr>\n    <tr>\n      <th>2</th>\n      <td>325</td>\n      <td>2022-08-05</td>\n      <td>113938</td>\n      <td>30.0</td>\n      <td>31.1</td>\n      <td>27.1</td>\n      <td>27.9</td>\n      <td>28.5</td>\n      <td>28.9</td>\n      <td>26.2</td>\n      <td>27.6</td>\n      <td>70.8</td>\n      <td>69.5</td>\n      <td>65.1</td>\n      <td>65.6</td>\n      <td>62.2</td>\n      <td>60.7</td>\n      <td>65.7</td>\n      <td>69.6</td>\n    </tr>\n    <tr>\n      <th>3</th>\n      <td>325</td>\n      <td>2022-09-15</td>\n      <td>121071</td>\n      <td>30.5</td>\n      <td>31.4</td>\n      <td>26.4</td>\n      <td>27.3</td>\n      <td>28.9</td>\n      <td>28.4</td>\n      <td>24.9</td>\n      <td>28.0</td>\n      <td>70.2</td>\n      <td>68.1</td>\n      <td>67.4</td>\n      <td>65.8</td>\n      <td>62.3</td>\n      <td>63.0</td>\n      <td>70.9</td>\n      <td>70.3</td>\n    </tr>\n    <tr>\n      <th>4</th>\n      <td>325</td>\n      <td>2022-09-09</td>\n      <td>117341</td>\n      <td>30.7</td>\n      <td>31.5</td>\n      <td>26.9</td>\n      <td>27.1</td>\n      <td>28.9</td>\n      <td>28.5</td>\n      <td>25.5</td>\n      <td>27.5</td>\n      <td>68.1</td>\n      <td>64.1</td>\n      <td>64.5</td>\n      <td>64.9</td>\n      <td>61.6</td>\n      <td>61.1</td>\n      <td>68.7</td>\n      <td>&lt;NA&gt;</td>\n    </tr>\n  </tbody>\n</table>\n</div>"
     },
     "execution_count": 23,
     "metadata": {},
     "output_type": "execute_result"
    }
   ],
   "source": [
    "kti_izm = pd.read_parquet('train/kti_izm.parquet').convert_dtypes()\n",
    "kti_izm.head()"
   ],
   "metadata": {
    "collapsed": false,
    "ExecuteTime": {
     "end_time": "2023-11-11T11:23:05.086961500Z",
     "start_time": "2023-11-11T11:23:04.901299400Z"
    }
   },
   "id": "c5a3226d1711e71a"
  },
  {
   "cell_type": "code",
   "execution_count": 24,
   "outputs": [
    {
     "data": {
      "text/plain": "6829"
     },
     "execution_count": 24,
     "metadata": {},
     "output_type": "execute_result"
    }
   ],
   "source": [
    "kti_izm.wagnum.nunique()"
   ],
   "metadata": {
    "collapsed": false,
    "ExecuteTime": {
     "end_time": "2023-11-11T11:23:05.110960200Z",
     "start_time": "2023-11-11T11:23:05.088960700Z"
    }
   },
   "id": "49eaa0d7ca7da53f"
  },
  {
   "cell_type": "code",
   "execution_count": 25,
   "outputs": [],
   "source": [
    "kti_izm.to_csv(\"kti_izm.csv\")"
   ],
   "metadata": {
    "collapsed": false,
    "ExecuteTime": {
     "end_time": "2023-11-11T11:23:06.413871300Z",
     "start_time": "2023-11-11T11:23:05.104962700Z"
    }
   },
   "id": "aa742e74993e73f4"
  },
  {
   "cell_type": "code",
   "execution_count": 25,
   "outputs": [],
   "source": [],
   "metadata": {
    "collapsed": false,
    "ExecuteTime": {
     "end_time": "2023-11-11T11:23:06.428871500Z",
     "start_time": "2023-11-11T11:23:06.410874700Z"
    }
   },
   "id": "4bc4d05b347fa98b"
  }
 ],
 "metadata": {
  "kernelspec": {
   "display_name": "Python 3",
   "language": "python",
   "name": "python3"
  },
  "language_info": {
   "codemirror_mode": {
    "name": "ipython",
    "version": 2
   },
   "file_extension": ".py",
   "mimetype": "text/x-python",
   "name": "python",
   "nbconvert_exporter": "python",
   "pygments_lexer": "ipython2",
   "version": "2.7.6"
  }
 },
 "nbformat": 4,
 "nbformat_minor": 5
}
